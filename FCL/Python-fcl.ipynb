{
 "cells": [
  {
   "cell_type": "code",
   "execution_count": 5,
   "metadata": {},
   "outputs": [],
   "source": [
    "import fcl\n",
    "import numpy as np"
   ]
  },
  {
   "cell_type": "markdown",
   "metadata": {},
   "source": [
    "# 构造碰撞对象"
   ]
  },
  {
   "cell_type": "code",
   "execution_count": 14,
   "metadata": {},
   "outputs": [],
   "source": [
    "# 定义两个形状\n",
    "box = fcl.Box(1, 1, 1)          # 三边长度1, 1, 1 定义与坐标轴轴对齐的box\n",
    "sphere = fcl.Sphere(1)           # 半径1 定义Sphere\n",
    "\n",
    "# 定义两个位姿,并使其保持一致\n",
    "T = np.array([1.0, 2.0, 3.0]) # 平移矩阵表示位置\n",
    "q = np.array([0.707, 0.0, 0.0, 0.707]) # 四元数，表示姿态\n",
    "box_tf = fcl.Transform(q, T) # 四元数旋转与平移\n",
    "Ts = np.array([3, 2.0, 3.0]) # 平移矩阵表示位置\n",
    "qs = np.array([0.707, 0.0, 0.0, 0.707]) # 四元数，表示姿态\n",
    "sphere_tf = fcl.Transform(qs,Ts)  # \n",
    "\n",
    "# 通过形状和位置，生成碰撞对象\n",
    "box_obj = fcl.CollisionObject(box,box_tf) \n",
    "sphere_obj = fcl.CollisionObject(sphere,sphere_tf)\n"
   ]
  },
  {
   "cell_type": "markdown",
   "metadata": {},
   "source": [
    "# 碰撞检测"
   ]
  },
  {
   "cell_type": "code",
   "execution_count": 15,
   "metadata": {},
   "outputs": [
    {
     "name": "stdout",
     "output_type": "stream",
     "text": [
      "箱子和球是否发生了碰撞 False\n"
     ]
    }
   ],
   "source": [
    "# 碰撞检测\n",
    "request = fcl.CollisionRequest()\n",
    "result = fcl.CollisionResult()\n",
    "ret = fcl.collide(box_obj, sphere_obj, request, result)\n",
    "print(\"箱子和球是否发生了碰撞\",result.is_collision)\n"
   ]
  },
  {
   "cell_type": "markdown",
   "metadata": {},
   "source": [
    "# 距离检测\n",
    "直接输出两者之间最小距离"
   ]
  },
  {
   "cell_type": "code",
   "execution_count": 16,
   "metadata": {},
   "outputs": [
    {
     "name": "stdout",
     "output_type": "stream",
     "text": [
      "两者之间最小距离 0.5004862252713862\n"
     ]
    }
   ],
   "source": [
    "# 距离检测\n",
    "request = fcl.DistanceRequest()\n",
    "result = fcl.DistanceResult()\n",
    "ret = fcl.distance(box_obj, sphere_obj, request, result)\n",
    "print(\"两者之间最小距离\",result.min_distance)\n"
   ]
  },
  {
   "cell_type": "markdown",
   "metadata": {},
   "source": [
    "# 连续碰撞检测"
   ]
  },
  {
   "cell_type": "code",
   "execution_count": 17,
   "metadata": {},
   "outputs": [
    {
     "name": "stdout",
     "output_type": "stream",
     "text": [
      "是否连续碰撞 False\n"
     ]
    }
   ],
   "source": [
    "request = fcl.ContinuousCollisionRequest()\n",
    "result = fcl.ContinuousCollisionResult()\n",
    "ret = fcl.continuousCollide(sphere_obj, sphere_tf, box_obj, box_tf, request, result)\n",
    "print(\"是否连续碰撞\",result.is_collide)"
   ]
  },
  {
   "cell_type": "code",
   "execution_count": 11,
   "metadata": {},
   "outputs": [
    {
     "name": "stdout",
     "output_type": "stream",
     "text": [
      "------------------------------\n"
     ]
    }
   ],
   "source": [
    "print ('-'*30)"
   ]
  }
 ],
 "metadata": {
  "interpreter": {
   "hash": "916dbcbb3f70747c44a77c7bcd40155683ae19c65e1c03b4aa3499c5328201f1"
  },
  "kernelspec": {
   "display_name": "Python 3.8.10 64-bit",
   "language": "python",
   "name": "python3"
  },
  "language_info": {
   "codemirror_mode": {
    "name": "ipython",
    "version": 3
   },
   "file_extension": ".py",
   "mimetype": "text/x-python",
   "name": "python",
   "nbconvert_exporter": "python",
   "pygments_lexer": "ipython3",
   "version": "3.8.10"
  },
  "orig_nbformat": 4
 },
 "nbformat": 4,
 "nbformat_minor": 2
}
